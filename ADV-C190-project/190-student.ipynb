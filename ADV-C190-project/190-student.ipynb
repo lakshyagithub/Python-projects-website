{
 "cells": [
  {
   "cell_type": "code",
   "execution_count": null,
   "metadata": {},
   "outputs": [],
   "source": [
    "print(\"Name : \")"
   ]
  },
  {
   "cell_type": "code",
   "execution_count": null,
   "metadata": {},
   "outputs": [],
   "source": [
    "#import the libraries\n",
    "import numpy as np\n",
    "import pandas as pd\n",
    "from matplotlib import pyplot as plt\n",
    "\n",
    "#Task 1\n",
    "#Read the bmi.csv\n",
    "dataFrame = pd.read_csv('bmi.csv')"
   ]
  },
  {
   "cell_type": "code",
   "execution_count": null,
   "metadata": {},
   "outputs": [],
   "source": [
    "#Task 2\n",
    "#Data is sorted in descending order in accordance with BMI value\n",
    "#Find the top 5 age group where the BMI value is the highest, and plot a bar graph out of it\n",
    "top_5 = dataFrame.head(5)\n"
   ]
  },
  {
   "cell_type": "code",
   "execution_count": null,
   "metadata": {},
   "outputs": [],
   "source": [
    "#Task 3\n",
    "#Read blood_pressure.csv\n",
    "dataFrame_2 = pd.read_csv('blood_pressure.csv')"
   ]
  },
  {
   "cell_type": "code",
   "execution_count": null,
   "metadata": {},
   "outputs": [],
   "source": [
    "#Task 4\n",
    "#Data is sorted in ascending order in accordance with Blood Pressure\n",
    "#Find the top 5 age group where the BloodPressure value is the highest, and plot a bar graph out of it\n",
    "top_5_2 = dataFrame_2.head(5)\n"
   ]
  },
  {
   "cell_type": "code",
   "execution_count": null,
   "metadata": {},
   "outputs": [],
   "source": [
    "#Task 5\n",
    "#Read the insulin.csv\n",
    "dataFrame_3 = pd.read_csv('insulin.csv')\n"
   ]
  },
  {
   "cell_type": "code",
   "execution_count": null,
   "metadata": {},
   "outputs": [],
   "source": [
    "#Task 6\n",
    "#Data is sorted in descending order in accordance with Insulin value\n",
    "#Find out what will be the Glucose and BMI value when the Insulin is highest\n",
    "\n"
   ]
  },
  {
   "cell_type": "code",
   "execution_count": null,
   "metadata": {},
   "outputs": [],
   "source": []
  },
  {
   "cell_type": "code",
   "execution_count": null,
   "metadata": {},
   "outputs": [],
   "source": []
  }
 ],
 "metadata": {
  "kernelspec": {
   "display_name": "Python 3 (ipykernel)",
   "language": "python",
   "name": "python3"
  }
 },
 "nbformat": 4,
 "nbformat_minor": 4
}
