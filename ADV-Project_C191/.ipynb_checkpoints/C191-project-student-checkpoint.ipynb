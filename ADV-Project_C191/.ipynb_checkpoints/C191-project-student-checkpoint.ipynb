{
 "cells": [
  {
   "cell_type": "raw",
   "metadata": {},
   "source": []
  },
  {
   "cell_type": "code",
   "execution_count": 1,
   "metadata": {},
   "outputs": [
    {
     "name": "stdout",
     "output_type": "stream",
     "text": [
      "Name : \n",
      "This is a CSV of more than 200 rows which has Covide data.\n",
      "The task is to find out top 5 the countries who are least affected by covid\n",
      "Another task is to find out top 5 the countries who has the maximum number of deaths\n",
      "Another task is to find out top 5 the countries who has the maximum number of active cases\n"
     ]
    }
   ],
   "source": [
    "print(\"Name : \")\n",
    "print(\"This is a CSV of more than 200 rows which has Covide data.\")\n",
    "print(\"The task is to find out top 5 the countries who are least affected by covid\")\n",
    "print(\"Another task is to find out top 5 the countries who has the maximum number of deaths\")\n",
    "print(\"Another task is to find out top 5 the countries who has the maximum number of active cases\")\n"
   ]
  },
  {
   "cell_type": "code",
   "execution_count": 2,
   "metadata": {},
   "outputs": [
    {
     "data": {
      "text/html": [
       "<div>\n",
       "<style scoped>\n",
       "    .dataframe tbody tr th:only-of-type {\n",
       "        vertical-align: middle;\n",
       "    }\n",
       "\n",
       "    .dataframe tbody tr th {\n",
       "        vertical-align: top;\n",
       "    }\n",
       "\n",
       "    .dataframe thead th {\n",
       "        text-align: right;\n",
       "    }\n",
       "</style>\n",
       "<table border=\"1\" class=\"dataframe\">\n",
       "  <thead>\n",
       "    <tr style=\"text-align: right;\">\n",
       "      <th></th>\n",
       "      <th>country</th>\n",
       "      <th>total_cases</th>\n",
       "      <th>new_cases</th>\n",
       "      <th>total_deaths</th>\n",
       "      <th>new_deaths</th>\n",
       "      <th>total_recovered</th>\n",
       "      <th>active_cases</th>\n",
       "      <th>active_critical</th>\n",
       "      <th>total_tests</th>\n",
       "      <th>population</th>\n",
       "    </tr>\n",
       "  </thead>\n",
       "  <tbody>\n",
       "    <tr>\n",
       "      <th>0</th>\n",
       "      <td>USA</td>\n",
       "      <td>1621196</td>\n",
       "      <td>294</td>\n",
       "      <td>96359</td>\n",
       "      <td>5.0</td>\n",
       "      <td>382244</td>\n",
       "      <td>1142593</td>\n",
       "      <td>17907</td>\n",
       "      <td>13479242</td>\n",
       "      <td>330790544</td>\n",
       "    </tr>\n",
       "    <tr>\n",
       "      <th>1</th>\n",
       "      <td>Russia</td>\n",
       "      <td>326448</td>\n",
       "      <td>8894</td>\n",
       "      <td>3249</td>\n",
       "      <td>150.0</td>\n",
       "      <td>99825</td>\n",
       "      <td>223374</td>\n",
       "      <td>2300</td>\n",
       "      <td>8126626</td>\n",
       "      <td>145927804</td>\n",
       "    </tr>\n",
       "    <tr>\n",
       "      <th>2</th>\n",
       "      <td>Brazil</td>\n",
       "      <td>310921</td>\n",
       "      <td>0</td>\n",
       "      <td>20082</td>\n",
       "      <td>0.0</td>\n",
       "      <td>125960</td>\n",
       "      <td>164879</td>\n",
       "      <td>8318</td>\n",
       "      <td>735224</td>\n",
       "      <td>212393298</td>\n",
       "    </tr>\n",
       "    <tr>\n",
       "      <th>3</th>\n",
       "      <td>Spain</td>\n",
       "      <td>280117</td>\n",
       "      <td>0</td>\n",
       "      <td>27940</td>\n",
       "      <td>0.0</td>\n",
       "      <td>196958</td>\n",
       "      <td>55219</td>\n",
       "      <td>1152</td>\n",
       "      <td>3037840</td>\n",
       "      <td>46752851</td>\n",
       "    </tr>\n",
       "    <tr>\n",
       "      <th>4</th>\n",
       "      <td>UK</td>\n",
       "      <td>250908</td>\n",
       "      <td>0</td>\n",
       "      <td>36042</td>\n",
       "      <td>0.0</td>\n",
       "      <td>1918</td>\n",
       "      <td>212948</td>\n",
       "      <td>1559</td>\n",
       "      <td>3090566</td>\n",
       "      <td>67847158</td>\n",
       "    </tr>\n",
       "    <tr>\n",
       "      <th>...</th>\n",
       "      <td>...</td>\n",
       "      <td>...</td>\n",
       "      <td>...</td>\n",
       "      <td>...</td>\n",
       "      <td>...</td>\n",
       "      <td>...</td>\n",
       "      <td>...</td>\n",
       "      <td>...</td>\n",
       "      <td>...</td>\n",
       "      <td>...</td>\n",
       "    </tr>\n",
       "    <tr>\n",
       "      <th>208</th>\n",
       "      <td>St. Barth</td>\n",
       "      <td>6</td>\n",
       "      <td>0</td>\n",
       "      <td>0</td>\n",
       "      <td>0.0</td>\n",
       "      <td>6</td>\n",
       "      <td>0</td>\n",
       "      <td>0</td>\n",
       "      <td>0</td>\n",
       "      <td>9874</td>\n",
       "    </tr>\n",
       "    <tr>\n",
       "      <th>209</th>\n",
       "      <td>Western Sahara</td>\n",
       "      <td>6</td>\n",
       "      <td>0</td>\n",
       "      <td>0</td>\n",
       "      <td>0.0</td>\n",
       "      <td>6</td>\n",
       "      <td>0</td>\n",
       "      <td>0</td>\n",
       "      <td>0</td>\n",
       "      <td>595583</td>\n",
       "    </tr>\n",
       "    <tr>\n",
       "      <th>210</th>\n",
       "      <td>Anguilla</td>\n",
       "      <td>3</td>\n",
       "      <td>0</td>\n",
       "      <td>0</td>\n",
       "      <td>0.0</td>\n",
       "      <td>3</td>\n",
       "      <td>0</td>\n",
       "      <td>0</td>\n",
       "      <td>0</td>\n",
       "      <td>14988</td>\n",
       "    </tr>\n",
       "    <tr>\n",
       "      <th>211</th>\n",
       "      <td>Lesotho</td>\n",
       "      <td>1</td>\n",
       "      <td>0</td>\n",
       "      <td>0</td>\n",
       "      <td>0.0</td>\n",
       "      <td>0</td>\n",
       "      <td>1</td>\n",
       "      <td>0</td>\n",
       "      <td>0</td>\n",
       "      <td>2140374</td>\n",
       "    </tr>\n",
       "    <tr>\n",
       "      <th>212</th>\n",
       "      <td>Saint Pierre Miquelon</td>\n",
       "      <td>1</td>\n",
       "      <td>0</td>\n",
       "      <td>0</td>\n",
       "      <td>0.0</td>\n",
       "      <td>1</td>\n",
       "      <td>0</td>\n",
       "      <td>0</td>\n",
       "      <td>0</td>\n",
       "      <td>5797</td>\n",
       "    </tr>\n",
       "  </tbody>\n",
       "</table>\n",
       "<p>213 rows × 10 columns</p>\n",
       "</div>"
      ],
      "text/plain": [
       "                   country  total_cases new_cases  total_deaths  new_deaths  \\\n",
       "0                      USA      1621196       294         96359         5.0   \n",
       "1                   Russia       326448      8894          3249       150.0   \n",
       "2                   Brazil       310921         0         20082         0.0   \n",
       "3                    Spain       280117         0         27940         0.0   \n",
       "4                       UK       250908         0         36042         0.0   \n",
       "..                     ...          ...       ...           ...         ...   \n",
       "208              St. Barth            6         0             0         0.0   \n",
       "209         Western Sahara            6         0             0         0.0   \n",
       "210               Anguilla            3         0             0         0.0   \n",
       "211                Lesotho            1         0             0         0.0   \n",
       "212  Saint Pierre Miquelon            1         0             0         0.0   \n",
       "\n",
       "     total_recovered  active_cases  active_critical  total_tests  population  \n",
       "0             382244       1142593            17907     13479242   330790544  \n",
       "1              99825        223374             2300      8126626   145927804  \n",
       "2             125960        164879             8318       735224   212393298  \n",
       "3             196958         55219             1152      3037840    46752851  \n",
       "4               1918        212948             1559      3090566    67847158  \n",
       "..               ...           ...              ...          ...         ...  \n",
       "208                6             0                0            0        9874  \n",
       "209                6             0                0            0      595583  \n",
       "210                3             0                0            0       14988  \n",
       "211                0             1                0            0     2140374  \n",
       "212                1             0                0            0        5797  \n",
       "\n",
       "[213 rows x 10 columns]"
      ]
     },
     "execution_count": 2,
     "metadata": {},
     "output_type": "execute_result"
    }
   ],
   "source": [
    "#Covide Data \n",
    "import  numpy as np\n",
    "import pandas as pd\n",
    "from matplotlib import pyplot as plt\n",
    "\n",
    "\n",
    "dataframe = pd.read_csv('covid19.csv')\n",
    "df = dataframe.dropna()\n",
    "df"
   ]
  },
  {
   "cell_type": "code",
   "execution_count": 3,
   "metadata": {},
   "outputs": [],
   "source": [
    "#Task 1 \n",
    "#Sort the data as per total number of cases\n",
    "sorted_df = df.sort_values(by=[\"country\", \"total_cases\", \"total_deaths\", \"active_cases\"])"
   ]
  },
  {
   "cell_type": "code",
   "execution_count": 4,
   "metadata": {},
   "outputs": [
    {
     "data": {
      "text/plain": [
       "<BarContainer object of 5 artists>"
      ]
     },
     "execution_count": 4,
     "metadata": {},
     "output_type": "execute_result"
    },
    {
     "data": {
      "image/png": "[encoded data removed]",
      "text/plain": [
       "<Figure size 640x480 with 1 Axes>"
      ]
     },
     "metadata": {},
     "output_type": "display_data"
    }
   ],
   "source": [
    "#Task 2\n",
    "#Get top 5 countries who has the least number of cases and plot a bar graph\n",
    "top_5 = sorted_df.tail(5)\n",
    "\n",
    "name = top_5[\"country\"]\n",
    "value = top_5[\"total_cases\"]\n",
    "\n",
    "plt.xlabel(\"Country name\")\n",
    "plt.xticks(rotation=\"vertical\")\n",
    "plt.ylabel(\"Number of Cases\")\n",
    "\n",
    "label = name\n",
    "value1 = value\n",
    "\n",
    "plt.bar(label, value1, width=0.4, color=(\"red\", \"green\", \"blue\"))"
   ]
  },
  {
   "cell_type": "code",
   "execution_count": 5,
   "metadata": {},
   "outputs": [
    {
     "name": "stdout",
     "output_type": "stream",
     "text": [
      "141     0\n",
      "209     0\n",
      "149    33\n",
      "112     7\n",
      "176     4\n",
      "Name: total_deaths, dtype: int64\n"
     ]
    }
   ],
   "source": [
    "#Task 3\n",
    "#Sort the data as per total number of deaths\n",
    "name1 = top_5[\"total_deaths\"]\n",
    "print(name1)"
   ]
  },
  {
   "cell_type": "code",
   "execution_count": 6,
   "metadata": {},
   "outputs": [
    {
     "data": {
      "text/plain": [
       "<BarContainer object of 5 artists>"
      ]
     },
     "execution_count": 6,
     "metadata": {},
     "output_type": "execute_result"
    },
    {
     "data": {
      "image/png": "[encoded data removed]",
      "text/plain": [
       "<Figure size 640x480 with 1 Axes>"
      ]
     },
     "metadata": {},
     "output_type": "display_data"
    }
   ],
   "source": [
    "#Task 4\n",
    "#Get top 5 countries who has the maximum number of deaths and plot a bar graph\n",
    "name2 = top_5[\"country\"]\n",
    "value1 = top_5[\"total_deaths\"]\n",
    "\n",
    "plt.xlabel(\"Country name\")\n",
    "plt.xticks(rotation=\"vertical\")\n",
    "plt.ylabel(\"Number of deaths\")\n",
    "\n",
    "label1 = name2\n",
    "value2 = value1\n",
    "\n",
    "plt.bar(label1, value2, width=0.4, color=(\"red\", \"green\", \"blue\"))\n",
    "\n"
   ]
  },
  {
   "cell_type": "code",
   "execution_count": 7,
   "metadata": {},
   "outputs": [
    {
     "name": "stdout",
     "output_type": "stream",
     "text": [
      "141     58\n",
      "209      0\n",
      "149    159\n",
      "112    557\n",
      "176     29\n",
      "Name: active_cases, dtype: int64\n"
     ]
    }
   ],
   "source": [
    "#Task 5\n",
    "#Sort the data as per active cases\n",
    "name3 = top_5[\"active_cases\"]\n",
    "print(name3)"
   ]
  },
  {
   "cell_type": "code",
   "execution_count": 8,
   "metadata": {},
   "outputs": [
    {
     "data": {
      "text/plain": [
       "<BarContainer object of 5 artists>"
      ]
     },
     "execution_count": 8,
     "metadata": {},
     "output_type": "execute_result"
    },
    {
     "data": {
      "image/png": "[encoded data removed]",
      "text/plain": [
       "<Figure size 640x480 with 1 Axes>"
      ]
     },
     "metadata": {},
     "output_type": "display_data"
    }
   ],
   "source": [
    "#Task 6\n",
    "#Get top 5 countries who has the maximum number of active cases and plot a bar graph\n",
    "name4 = top_5[\"country\"]\n",
    "value2 = top_5[\"active_cases\"]\n",
    "\n",
    "plt.xlabel(\"Country name\")\n",
    "plt.xticks(rotation=\"vertical\")\n",
    "plt.ylabel(\"Number of Active Cases\")\n",
    "\n",
    "label2 = name4\n",
    "value3 = value2\n",
    "\n",
    "plt.bar(label2, value3, width=0.4, color=(\"red\", \"green\", \"blue\"))"
   ]
  },
  {
   "cell_type": "code",
   "execution_count": null,
   "metadata": {},
   "outputs": [],
   "source": []
  },
  {
   "cell_type": "code",
   "execution_count": null,
   "metadata": {},
   "outputs": [],
   "source": []
  }
 ],
 "metadata": {
  "kernelspec": {
   "display_name": "Python 3 (ipykernel)",
   "language": "python",
   "name": "python3"
  },
  "language_info": {
   "codemirror_mode": {
    "name": "ipython",
    "version": 3
   },
   "file_extension": ".py",
   "mimetype": "text/x-python",
   "name": "python",
   "nbconvert_exporter": "python",
   "pygments_lexer": "ipython3",
   "version": "3.9.13"
  }
 },
 "nbformat": 4,
 "nbformat_minor": 4
}
